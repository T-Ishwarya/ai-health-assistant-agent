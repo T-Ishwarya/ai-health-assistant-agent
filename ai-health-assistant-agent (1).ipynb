{
 "cells": [
  {
   "cell_type": "code",
   "execution_count": 24,
   "id": "c9b84c49-f266-4844-a848-cc88c69152b4",
   "metadata": {},
   "outputs": [],
   "source": [
    "# 🧠 AI Health Assistant Agent\n",
    "# 📅 IBM SkillsBuild Internship Project\n",
    "# 👩‍💻 Developed by: [Your Name]\n",
    "# 🏫 College: [Your College Name], Department of [Your Dept]\n",
    "# 💡 Objective: To build a simple AI-powered chatbot that answers health-related questions using Python and a predefined knowledge base.\n"
   ]
  },
  {
   "cell_type": "code",
   "execution_count": 26,
   "id": "a9eb36fc-0444-4ecf-9cc6-f5cd348f5f98",
   "metadata": {},
   "outputs": [
    {
     "name": "stdout",
     "output_type": "stream",
     "text": [
      "Requirement already satisfied: googletrans==4.0.0-rc1 in c:\\users\\ishwarya\\anaconda3\\lib\\site-packages (4.0.0rc1)\n",
      "Requirement already satisfied: httpx==0.13.3 in c:\\users\\ishwarya\\anaconda3\\lib\\site-packages (from googletrans==4.0.0-rc1) (0.13.3)\n",
      "Requirement already satisfied: certifi in c:\\users\\ishwarya\\anaconda3\\lib\\site-packages (from httpx==0.13.3->googletrans==4.0.0-rc1) (2024.12.14)\n",
      "Requirement already satisfied: hstspreload in c:\\users\\ishwarya\\anaconda3\\lib\\site-packages (from httpx==0.13.3->googletrans==4.0.0-rc1) (2025.1.1)\n",
      "Requirement already satisfied: sniffio in c:\\users\\ishwarya\\anaconda3\\lib\\site-packages (from httpx==0.13.3->googletrans==4.0.0-rc1) (1.3.0)\n",
      "Requirement already satisfied: chardet==3.* in c:\\users\\ishwarya\\anaconda3\\lib\\site-packages (from httpx==0.13.3->googletrans==4.0.0-rc1) (3.0.4)\n",
      "Requirement already satisfied: idna==2.* in c:\\users\\ishwarya\\anaconda3\\lib\\site-packages (from httpx==0.13.3->googletrans==4.0.0-rc1) (2.10)\n",
      "Requirement already satisfied: rfc3986<2,>=1.3 in c:\\users\\ishwarya\\anaconda3\\lib\\site-packages (from httpx==0.13.3->googletrans==4.0.0-rc1) (1.5.0)\n",
      "Requirement already satisfied: httpcore==0.9.* in c:\\users\\ishwarya\\anaconda3\\lib\\site-packages (from httpx==0.13.3->googletrans==4.0.0-rc1) (0.9.1)\n",
      "Requirement already satisfied: h11<0.10,>=0.8 in c:\\users\\ishwarya\\anaconda3\\lib\\site-packages (from httpcore==0.9.*->httpx==0.13.3->googletrans==4.0.0-rc1) (0.9.0)\n",
      "Requirement already satisfied: h2==3.* in c:\\users\\ishwarya\\anaconda3\\lib\\site-packages (from httpcore==0.9.*->httpx==0.13.3->googletrans==4.0.0-rc1) (3.2.0)\n",
      "Requirement already satisfied: hyperframe<6,>=5.2.0 in c:\\users\\ishwarya\\anaconda3\\lib\\site-packages (from h2==3.*->httpcore==0.9.*->httpx==0.13.3->googletrans==4.0.0-rc1) (5.2.0)\n",
      "Requirement already satisfied: hpack<4,>=3.0 in c:\\users\\ishwarya\\anaconda3\\lib\\site-packages (from h2==3.*->httpcore==0.9.*->httpx==0.13.3->googletrans==4.0.0-rc1) (3.0.0)\n"
     ]
    }
   ],
   "source": [
    "!pip install googletrans==4.0.0-rc1\n"
   ]
  },
  {
   "cell_type": "code",
   "execution_count": 27,
   "id": "dcb687cb-f3c4-4209-8b85-f05beb0a89b6",
   "metadata": {},
   "outputs": [],
   "source": [
    "import json\n",
    "from IPython.display import display, Markdown\n",
    "\n",
    "# 🗣️ For translation (optional)\n",
    "try:\n",
    "    from googletrans import Translator\n",
    "except:\n",
    "    Translator = None\n"
   ]
  },
  {
   "cell_type": "code",
   "execution_count": 28,
   "id": "6e03b5d0-308c-44d5-a218-10cefb8391ae",
   "metadata": {},
   "outputs": [],
   "source": [
    "# 📚 Predefined Q&A for common health topics\n",
    "knowledge_base = [\n",
    "    {\n",
    "        \"question\": \"I have a headache and fever\",\n",
    "        \"answer\": \"🩺 These may be symptoms of a viral infection. Please stay hydrated and take rest. Consult a doctor if symptoms persist.\"\n",
    "    },\n",
    "    {\n",
    "        \"question\": \"Can I take ibuprofen with paracetamol?\",\n",
    "        \"answer\": \"💊 Yes, but only under medical advice. Do not self-medicate frequently without a doctor’s supervision.\"\n",
    "    },\n",
    "    {\n",
    "        \"question\": \"Suggest a doctor near Chennai\",\n",
    "        \"answer\": \"🏥 You can visit Apollo Hospitals, Fortis Malar, or Kauvery Hospital in Chennai.\"\n",
    "    },\n",
    "    {\n",
    "        \"question\": \"What are the symptoms of dengue?\",\n",
    "        \"answer\": \"🦟 Dengue symptoms include high fever, severe headache, muscle and joint pain, rash, and fatigue.\"\n",
    "    },\n",
    "    {\n",
    "        \"question\": \"What should I eat after recovering from fever?\",\n",
    "        \"answer\": \"🥗 Eat light, nutritious food like fruits, soups, and plenty of fluids to regain energy.\"\n",
    "    }\n",
    "]\n"
   ]
  },
  {
   "cell_type": "code",
   "execution_count": 29,
   "id": "16037ab6-a014-41fb-b0aa-f89b82b5d680",
   "metadata": {},
   "outputs": [],
   "source": [
    "# 🔍 Function to find a matching answer from the knowledge base\n",
    "def get_answer(user_input):\n",
    "    for item in knowledge_base:\n",
    "        if user_input.lower() in item['question'].lower():\n",
    "            return item['answer']\n",
    "    return \"🤖 Sorry, I don't have information on that. Please consult a healthcare provider.\"\n"
   ]
  },
  {
   "cell_type": "code",
   "execution_count": 30,
   "id": "eb287ecb-931d-4b1c-aff5-f3185d927c9e",
   "metadata": {},
   "outputs": [],
   "source": [
    "# 🌐 Function to translate responses to another language (e.g., Tamil, Hindi)\n",
    "def translate_to_language(text, lang='ta'):\n",
    "    if Translator:\n",
    "        translator = Translator()\n",
    "        translated = translator.translate(text, dest=lang)\n",
    "        return translated.text\n",
    "    else:\n",
    "        return \"(Translation unavailable – googletrans not installed)\"\n"
   ]
  },
  {
   "cell_type": "code",
   "execution_count": 36,
   "id": "9143ca5c-5dde-49dd-8a86-18176fdc1226",
   "metadata": {
    "collapsed": true,
    "jupyter": {
     "outputs_hidden": true
    }
   },
   "outputs": [
    {
     "name": "stdout",
     "output_type": "stream",
     "text": [
      "🩺 Welcome to the AI Health Assistant Agent\n",
      "Type 'exit' to end the chat.\n",
      "\n"
     ]
    },
    {
     "name": "stdin",
     "output_type": "stream",
     "text": [
      "You:  I have a headache and fever\n"
     ]
    },
    {
     "name": "stdout",
     "output_type": "stream",
     "text": [
      "Agent: These may be symptoms of a viral infection. Please stay hydrated and take rest. Consult a doctor if symptoms persist.\n"
     ]
    },
    {
     "name": "stdin",
     "output_type": "stream",
     "text": [
      "You:  exit\n"
     ]
    },
    {
     "name": "stdout",
     "output_type": "stream",
     "text": [
      "Agent: Take care! 😊\n"
     ]
    }
   ],
   "source": [
    "# 💬 Simple chat interface inside Jupyter Notebook\n",
    "def chat():\n",
    "    print(\"🩺 Welcome to the AI Health Assistant Agent\")\n",
    "    print(\"💬 Type your health-related question below\")\n",
    "    print(\"🔚 Type 'exit' to end the chat.\\n\")\n",
    "    \n",
    "    while True:\n",
    "        user_input = input(\"You: \")\n",
    "        if user_input.lower() == \"exit\":\n",
    "            print(\"Agent: Take care! 🌿 Stay healthy! 😊\")\n",
    "            break\n",
    "        answer = get_answer(user_input)\n",
    "        print(\"Agent:\", answer)\n"
   ]
  },
  {
   "cell_type": "code",
   "execution_count": 38,
   "id": "ecf09ca2-24ab-41db-81ff-057eab89e1d7",
   "metadata": {},
   "outputs": [
    {
     "name": "stdout",
     "output_type": "stream",
     "text": [
      "🩺 Welcome to the AI Health Assistant Agent\n",
      "Type 'exit' to end the chat.\n",
      "\n"
     ]
    },
    {
     "name": "stdin",
     "output_type": "stream",
     "text": [
      "You:  I have a headache and fever\n"
     ]
    },
    {
     "name": "stdout",
     "output_type": "stream",
     "text": [
      "Agent: These may be symptoms of a viral infection. Please stay hydrated and take rest. Consult a doctor if symptoms persist.\n"
     ]
    },
    {
     "name": "stdin",
     "output_type": "stream",
     "text": [
      "You:  Can I take ibuprofen with paracetomal?\n"
     ]
    },
    {
     "name": "stdout",
     "output_type": "stream",
     "text": [
      "Agent: Sorry, I don't have information on that. Please consult a healthcare provider.\n"
     ]
    },
    {
     "name": "stdin",
     "output_type": "stream",
     "text": [
      "You:  exit\n"
     ]
    },
    {
     "name": "stdout",
     "output_type": "stream",
     "text": [
      "Agent: Take care! 😊\n"
     ]
    }
   ],
   "source": [
    "# ▶️ Start the chatbot\n",
    "chat()\n"
   ]
  },
  {
   "cell_type": "code",
   "execution_count": null,
   "id": "27d61176-9598-4a48-953a-47f668b0cfdf",
   "metadata": {},
   "outputs": [],
   "source": []
  }
 ],
 "metadata": {
  "kernelspec": {
   "display_name": "Python [conda env:base] *",
   "language": "python",
   "name": "conda-base-py"
  },
  "language_info": {
   "codemirror_mode": {
    "name": "ipython",
    "version": 3
   },
   "file_extension": ".py",
   "mimetype": "text/x-python",
   "name": "python",
   "nbconvert_exporter": "python",
   "pygments_lexer": "ipython3",
   "version": "3.12.7"
  }
 },
 "nbformat": 4,
 "nbformat_minor": 5
}
